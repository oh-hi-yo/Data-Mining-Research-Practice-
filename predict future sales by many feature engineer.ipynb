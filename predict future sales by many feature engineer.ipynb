{
 "cells": [
  {
   "cell_type": "code",
   "execution_count": 1,
   "metadata": {},
   "outputs": [],
   "source": [
    "import pandas as pd\n",
    "import numpy as np\n",
    "import matplotlib.pyplot as plt\n",
    "import seaborn as sns\n",
    "from sklearn.preprocessing import LabelEncoder\n",
    "import time\n",
    "from itertools import product\n",
    "import lightgbm as lgb\n",
    "import gc\n",
    "import pickle"
   ]
  },
  {
   "cell_type": "code",
   "execution_count": 2,
   "metadata": {},
   "outputs": [],
   "source": [
    "# 這是拿別台電腦經過上面步驟處理的資料，整理成pkl檔\n",
    "data = pd.read_pickle('data_simple.pkl')"
   ]
  },
  {
   "cell_type": "code",
   "execution_count": 3,
   "metadata": {},
   "outputs": [],
   "source": [
    "X_train = data[data.date_block_num < 33].drop(['item_cnt_month'], axis=1)\n",
    "Y_train = data[data.date_block_num < 33]['item_cnt_month']\n",
    "X_valid = data[data.date_block_num == 33].drop(['item_cnt_month'], axis=1)\n",
    "Y_valid = data[data.date_block_num == 33]['item_cnt_month']\n",
    "X_test = data[data.date_block_num == 34].drop(['item_cnt_month'], axis=1)\n",
    "Y_true = data[data.date_block_num == 34]['item_cnt_month']"
   ]
  },
  {
   "cell_type": "code",
   "execution_count": 4,
   "metadata": {},
   "outputs": [
    {
     "name": "stderr",
     "output_type": "stream",
     "text": [
      "/Users/kevinxie/opt/anaconda3/lib/python3.8/site-packages/lightgbm/engine.py:151: UserWarning: Found `n_estimators` in params. Will use it instead of argument\n",
      "  warnings.warn(\"Found `{}` in params. Will use it instead of argument\".format(alias))\n",
      "/Users/kevinxie/opt/anaconda3/lib/python3.8/site-packages/lightgbm/engine.py:156: UserWarning: Found `early_stopping_rounds` in params. Will use it instead of argument\n",
      "  warnings.warn(\"Found `{}` in params. Will use it instead of argument\".format(alias))\n"
     ]
    },
    {
     "name": "stdout",
     "output_type": "stream",
     "text": [
      "[LightGBM] [Warning] Auto-choosing row-wise multi-threading, the overhead of testing was 0.244626 seconds.\n",
      "You can set `force_row_wise=true` to remove the overhead.\n",
      "And if memory is not enough, you can set `force_col_wise=true`.\n",
      "[LightGBM] [Info] Total Bins 10793\n",
      "[LightGBM] [Info] Number of data points in the train set: 6115195, number of used features: 64\n",
      "[LightGBM] [Info] Start training from score 0.292190\n",
      "Training until validation scores don't improve for 100 rounds\n",
      "[100]\ttraining's rmse: 0.921965\tvalid_1's rmse: 0.951244\n",
      "[200]\ttraining's rmse: 0.837765\tvalid_1's rmse: 0.914852\n",
      "[300]\ttraining's rmse: 0.803801\tvalid_1's rmse: 0.910862\n",
      "Early stopping, best iteration is:\n",
      "[284]\ttraining's rmse: 0.808003\tvalid_1's rmse: 0.910509\n"
     ]
    }
   ],
   "source": [
    "ts = time.time()\n",
    "train_data = lgb.Dataset(data=X_train, label=Y_train)\n",
    "valid_data = lgb.Dataset(data=X_valid, label=Y_valid)\n",
    "\n",
    "time.time() - ts\n",
    "    \n",
    "params = {\"objective\" : \"regression\", \"metric\" : \"rmse\", 'n_estimators':10000, 'early_stopping_rounds':100,\n",
    "              \"num_leaves\" : 200, \"learning_rate\" : 0.01, \"bagging_fraction\" : 0.9,\n",
    "              \"feature_fraction\" : 0.3, \"bagging_seed\" : 0}\n",
    "    \n",
    "lgb_model = lgb.train(params, train_data, valid_sets=[train_data, valid_data], verbose_eval=100) \n",
    "Y_test = lgb_model.predict(X_test).clip(0, 20)"
   ]
  },
  {
   "cell_type": "code",
   "execution_count": 5,
   "metadata": {},
   "outputs": [],
   "source": [
    "df_output = pd.DataFrame()\n",
    "aux = pd.read_csv('sample_submission.csv')\n",
    "df_output['ID'] = aux['ID']\n",
    "df_output['item_cnt_month'] = Y_test\n",
    "df_output[['ID', 'item_cnt_month']].to_csv('feature engineer lightGBM.csv', index=False)"
   ]
  },
  {
   "cell_type": "code",
   "execution_count": null,
   "metadata": {},
   "outputs": [],
   "source": []
  }
 ],
 "metadata": {
  "kernelspec": {
   "display_name": "Python 3",
   "language": "python",
   "name": "python3"
  },
  "language_info": {
   "codemirror_mode": {
    "name": "ipython",
    "version": 3
   },
   "file_extension": ".py",
   "mimetype": "text/x-python",
   "name": "python",
   "nbconvert_exporter": "python",
   "pygments_lexer": "ipython3",
   "version": "3.8.5"
  }
 },
 "nbformat": 4,
 "nbformat_minor": 4
}
